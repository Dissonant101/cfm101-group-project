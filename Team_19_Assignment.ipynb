{
 "cells": [
  {
   "cell_type": "code",
   "execution_count": 1,
   "metadata": {
    "id": "wHylFQAPg2fL"
   },
   "outputs": [],
   "source": [
    "from IPython.display import display, Math, Latex\n",
    "\n",
    "import pandas as pd\n",
    "import numpy as np\n",
    "import numpy_financial as npf\n",
    "import yfinance as yf\n",
    "import matplotlib.pyplot as plt\n",
    "from datetime import datetime"
   ]
  },
  {
   "cell_type": "markdown",
   "metadata": {
    "id": "CfoqzlEag2fM"
   },
   "source": [
    "## Group Assignment\n",
    "### Team Number: 19\n",
    "### Team Member Names: Steven Chen, Jolene Huang, Haadi Khan\n",
    "### Team Strategy Chosen: RISKY"
   ]
  },
  {
   "cell_type": "markdown",
   "metadata": {
    "id": "Fs-o1lxOcEE3"
   },
   "source": [
    "Before implementing our risky portfolio strategy, we must first define constants and variables:"
   ]
  },
  {
   "cell_type": "code",
   "execution_count": 2,
   "metadata": {
    "id": "cBKcXc5nrDwd"
   },
   "outputs": [],
   "source": [
    "# Constants\n",
    "TEAM_NUMBER = 19\n",
    "TICKERS_FILE_NAME = \"Tickers.csv\"\n",
    "STARTING_VALUE = 750000\n",
    "CURRENCIES = [\"USD\", \"CAD\"]\n",
    "USD_TO_CAD = \"USDCAD=x\"\n",
    "START_DATE =\"2023-01-01\"\n",
    "END_DATE =\"2023-10-31\"\n",
    "MIN_DAYS = 18\n",
    "MIN_VOLUME = 150000\n",
    "NUM_STOCKS = 10\n",
    "STOCKS_WEIGHTING = pd.Series([0.2, 0.2, 0.2, 0.1, 0.05, 0.05, 0.05, 0.05, 0.05, 0.05])\n",
    "MARKET_INDEX = \"^GSPC\"\n",
    "TRADING_FEE = 4.95"
   ]
  },
  {
   "cell_type": "markdown",
   "metadata": {
    "id": "L0BszfZ3cG5_"
   },
   "source": [
    "We are using 10 stocks in our portfolio for this strategy and we are weighting each stock differently based on their risk. The constant, STOCK_WEIGHTING is a Series that represents the weight we assign to each of the stocks in our portfolio, in decreasing order of risk. We want to maximize the weightings of the most risky stocks for this strategy while complying with the requirements of a 20% maximum weighting and each stock making up a minimum of (100/(2n))%, where n is the number of stocks in our portfolio. Therefore, the top three riskiest stocks will be weighted 20%, the fourth riskiest stock will be weighted 10%, and the rest of the stocks will each be weighted 5% in our portfolio of ten stocks in total."
   ]
  },
  {
   "cell_type": "markdown",
   "metadata": {
    "id": "IAmReaHAcLxf"
   },
   "source": [
    "We must then turn the given csv file, “Tickers.csv” into a list of strings as the ticker names."
   ]
  },
  {
   "cell_type": "code",
   "execution_count": 3,
   "metadata": {
    "colab": {
     "base_uri": "https://localhost:8080/"
    },
    "id": "7WmYFGpdN_Wh",
    "outputId": "e44cb08a-f6e2-4480-c160-ce7c2bdd0412"
   },
   "outputs": [
    {
     "name": "stdout",
     "output_type": "stream",
     "text": [
      "['AAPL', 'ABBV', 'ABT', 'ACN', 'AGN', 'AIG', 'AMZN', 'AXP', 'BA', 'BAC', 'BIIB', 'BK', 'BLK', 'BMY', 'C', 'CAT', 'CELG', 'CL', 'KO', 'LLY', 'LMT', 'MO', 'MON', 'MRK', 'PEP', 'PFE', 'PG', 'PM', 'PYPL', 'QCOM', 'RTN', 'RY.TO', 'SHOP.TO', 'T.TO', 'TD.TO', 'TXN', 'UNH', 'UNP', 'UPS', 'USB']\n"
     ]
    }
   ],
   "source": [
    "# Get list of all tickers from csv file\n",
    "symbol_list = pd.read_csv(TICKERS_FILE_NAME, header=None)[0].to_list()\n",
    "print(symbol_list)"
   ]
  },
  {
   "cell_type": "markdown",
   "metadata": {
    "id": "jmmE-xsacOTk"
   },
   "source": [
    "Since it is not guaranteed that all of these tickers are valid, we now create a function called get_valid_stocks that filters out stocks that do not meet our requirements. By doing this, we can eliminate stocks that do not have an average monthly volume of at least 150,000 shares and those that are not denominated in USD or CAD.\n",
    "\n",
    "Firstly, we downloaded the stock data from the Yahoo Finance API. stocks.tickers is a property of the stocks object which holds the details of individual stock tickers. The stock_data dictionary is initialized to store the historical data of valid stocks. Using a for loop, we iterate through each symbol in stock_tickers and filter the stock data according to the criteria mentioned. We also use this function to filter out the months with less than 18 trading days.\n",
    "\n",
    "If the stock passes all these requirements, its historical data is stored in the stock_data dictionary with the symbol as the key. This filtering process can be used in financial analysis as we want to make sure that chosen stocks have sufficient liquidity, are traded in the desired currencies, and include enough data to be analyzed adequately.\n"
   ]
  },
  {
   "cell_type": "code",
   "execution_count": 4,
   "metadata": {
    "colab": {
     "background_save": true,
     "base_uri": "https://localhost:8080/"
    },
    "id": "5jmo6fH_g2fM",
    "outputId": "e68e6a3b-ae6b-4509-aab8-c9e4129e40e4"
   },
   "outputs": [
    {
     "name": "stderr",
     "output_type": "stream",
     "text": [
      "/var/folders/bs/pl3ldchs7kzb9cbkl7w2rqtr0000gn/T/ipykernel_58389/2072376713.py:18: UserWarning: Converting to PeriodArray/Index representation will drop timezone information.\n",
      "  history = history.assign(YearMonth=history.index.to_period('M')).groupby('YearMonth').filter(lambda x: len(x) >= MIN_DAYS).drop(columns=['YearMonth'])\n",
      "/var/folders/bs/pl3ldchs7kzb9cbkl7w2rqtr0000gn/T/ipykernel_58389/2072376713.py:18: UserWarning: Converting to PeriodArray/Index representation will drop timezone information.\n",
      "  history = history.assign(YearMonth=history.index.to_period('M')).groupby('YearMonth').filter(lambda x: len(x) >= MIN_DAYS).drop(columns=['YearMonth'])\n",
      "/var/folders/bs/pl3ldchs7kzb9cbkl7w2rqtr0000gn/T/ipykernel_58389/2072376713.py:18: UserWarning: Converting to PeriodArray/Index representation will drop timezone information.\n",
      "  history = history.assign(YearMonth=history.index.to_period('M')).groupby('YearMonth').filter(lambda x: len(x) >= MIN_DAYS).drop(columns=['YearMonth'])\n",
      "/var/folders/bs/pl3ldchs7kzb9cbkl7w2rqtr0000gn/T/ipykernel_58389/2072376713.py:18: UserWarning: Converting to PeriodArray/Index representation will drop timezone information.\n",
      "  history = history.assign(YearMonth=history.index.to_period('M')).groupby('YearMonth').filter(lambda x: len(x) >= MIN_DAYS).drop(columns=['YearMonth'])\n"
     ]
    },
    {
     "name": "stdout",
     "output_type": "stream",
     "text": [
      "KeyError: 'currentTradingPeriod'\n"
     ]
    },
    {
     "name": "stderr",
     "output_type": "stream",
     "text": [
      "/var/folders/bs/pl3ldchs7kzb9cbkl7w2rqtr0000gn/T/ipykernel_58389/2072376713.py:18: UserWarning: Converting to PeriodArray/Index representation will drop timezone information.\n",
      "  history = history.assign(YearMonth=history.index.to_period('M')).groupby('YearMonth').filter(lambda x: len(x) >= MIN_DAYS).drop(columns=['YearMonth'])\n",
      "/var/folders/bs/pl3ldchs7kzb9cbkl7w2rqtr0000gn/T/ipykernel_58389/2072376713.py:18: UserWarning: Converting to PeriodArray/Index representation will drop timezone information.\n",
      "  history = history.assign(YearMonth=history.index.to_period('M')).groupby('YearMonth').filter(lambda x: len(x) >= MIN_DAYS).drop(columns=['YearMonth'])\n",
      "/var/folders/bs/pl3ldchs7kzb9cbkl7w2rqtr0000gn/T/ipykernel_58389/2072376713.py:18: UserWarning: Converting to PeriodArray/Index representation will drop timezone information.\n",
      "  history = history.assign(YearMonth=history.index.to_period('M')).groupby('YearMonth').filter(lambda x: len(x) >= MIN_DAYS).drop(columns=['YearMonth'])\n",
      "/var/folders/bs/pl3ldchs7kzb9cbkl7w2rqtr0000gn/T/ipykernel_58389/2072376713.py:18: UserWarning: Converting to PeriodArray/Index representation will drop timezone information.\n",
      "  history = history.assign(YearMonth=history.index.to_period('M')).groupby('YearMonth').filter(lambda x: len(x) >= MIN_DAYS).drop(columns=['YearMonth'])\n",
      "/var/folders/bs/pl3ldchs7kzb9cbkl7w2rqtr0000gn/T/ipykernel_58389/2072376713.py:18: UserWarning: Converting to PeriodArray/Index representation will drop timezone information.\n",
      "  history = history.assign(YearMonth=history.index.to_period('M')).groupby('YearMonth').filter(lambda x: len(x) >= MIN_DAYS).drop(columns=['YearMonth'])\n",
      "/var/folders/bs/pl3ldchs7kzb9cbkl7w2rqtr0000gn/T/ipykernel_58389/2072376713.py:18: UserWarning: Converting to PeriodArray/Index representation will drop timezone information.\n",
      "  history = history.assign(YearMonth=history.index.to_period('M')).groupby('YearMonth').filter(lambda x: len(x) >= MIN_DAYS).drop(columns=['YearMonth'])\n",
      "/var/folders/bs/pl3ldchs7kzb9cbkl7w2rqtr0000gn/T/ipykernel_58389/2072376713.py:18: UserWarning: Converting to PeriodArray/Index representation will drop timezone information.\n",
      "  history = history.assign(YearMonth=history.index.to_period('M')).groupby('YearMonth').filter(lambda x: len(x) >= MIN_DAYS).drop(columns=['YearMonth'])\n",
      "/var/folders/bs/pl3ldchs7kzb9cbkl7w2rqtr0000gn/T/ipykernel_58389/2072376713.py:18: UserWarning: Converting to PeriodArray/Index representation will drop timezone information.\n",
      "  history = history.assign(YearMonth=history.index.to_period('M')).groupby('YearMonth').filter(lambda x: len(x) >= MIN_DAYS).drop(columns=['YearMonth'])\n",
      "/var/folders/bs/pl3ldchs7kzb9cbkl7w2rqtr0000gn/T/ipykernel_58389/2072376713.py:18: UserWarning: Converting to PeriodArray/Index representation will drop timezone information.\n",
      "  history = history.assign(YearMonth=history.index.to_period('M')).groupby('YearMonth').filter(lambda x: len(x) >= MIN_DAYS).drop(columns=['YearMonth'])\n",
      "/var/folders/bs/pl3ldchs7kzb9cbkl7w2rqtr0000gn/T/ipykernel_58389/2072376713.py:18: UserWarning: Converting to PeriodArray/Index representation will drop timezone information.\n",
      "  history = history.assign(YearMonth=history.index.to_period('M')).groupby('YearMonth').filter(lambda x: len(x) >= MIN_DAYS).drop(columns=['YearMonth'])\n",
      "/var/folders/bs/pl3ldchs7kzb9cbkl7w2rqtr0000gn/T/ipykernel_58389/2072376713.py:18: UserWarning: Converting to PeriodArray/Index representation will drop timezone information.\n",
      "  history = history.assign(YearMonth=history.index.to_period('M')).groupby('YearMonth').filter(lambda x: len(x) >= MIN_DAYS).drop(columns=['YearMonth'])\n"
     ]
    },
    {
     "name": "stdout",
     "output_type": "stream",
     "text": [
      "KeyError: 'currentTradingPeriod'\n"
     ]
    },
    {
     "name": "stderr",
     "output_type": "stream",
     "text": [
      "/var/folders/bs/pl3ldchs7kzb9cbkl7w2rqtr0000gn/T/ipykernel_58389/2072376713.py:18: UserWarning: Converting to PeriodArray/Index representation will drop timezone information.\n",
      "  history = history.assign(YearMonth=history.index.to_period('M')).groupby('YearMonth').filter(lambda x: len(x) >= MIN_DAYS).drop(columns=['YearMonth'])\n",
      "/var/folders/bs/pl3ldchs7kzb9cbkl7w2rqtr0000gn/T/ipykernel_58389/2072376713.py:18: UserWarning: Converting to PeriodArray/Index representation will drop timezone information.\n",
      "  history = history.assign(YearMonth=history.index.to_period('M')).groupby('YearMonth').filter(lambda x: len(x) >= MIN_DAYS).drop(columns=['YearMonth'])\n",
      "/var/folders/bs/pl3ldchs7kzb9cbkl7w2rqtr0000gn/T/ipykernel_58389/2072376713.py:18: UserWarning: Converting to PeriodArray/Index representation will drop timezone information.\n",
      "  history = history.assign(YearMonth=history.index.to_period('M')).groupby('YearMonth').filter(lambda x: len(x) >= MIN_DAYS).drop(columns=['YearMonth'])\n",
      "/var/folders/bs/pl3ldchs7kzb9cbkl7w2rqtr0000gn/T/ipykernel_58389/2072376713.py:18: UserWarning: Converting to PeriodArray/Index representation will drop timezone information.\n",
      "  history = history.assign(YearMonth=history.index.to_period('M')).groupby('YearMonth').filter(lambda x: len(x) >= MIN_DAYS).drop(columns=['YearMonth'])\n",
      "/var/folders/bs/pl3ldchs7kzb9cbkl7w2rqtr0000gn/T/ipykernel_58389/2072376713.py:18: UserWarning: Converting to PeriodArray/Index representation will drop timezone information.\n",
      "  history = history.assign(YearMonth=history.index.to_period('M')).groupby('YearMonth').filter(lambda x: len(x) >= MIN_DAYS).drop(columns=['YearMonth'])\n"
     ]
    },
    {
     "name": "stdout",
     "output_type": "stream",
     "text": [
      "KeyError: 'currentTradingPeriod'\n"
     ]
    },
    {
     "name": "stderr",
     "output_type": "stream",
     "text": [
      "/var/folders/bs/pl3ldchs7kzb9cbkl7w2rqtr0000gn/T/ipykernel_58389/2072376713.py:18: UserWarning: Converting to PeriodArray/Index representation will drop timezone information.\n",
      "  history = history.assign(YearMonth=history.index.to_period('M')).groupby('YearMonth').filter(lambda x: len(x) >= MIN_DAYS).drop(columns=['YearMonth'])\n",
      "/var/folders/bs/pl3ldchs7kzb9cbkl7w2rqtr0000gn/T/ipykernel_58389/2072376713.py:18: UserWarning: Converting to PeriodArray/Index representation will drop timezone information.\n",
      "  history = history.assign(YearMonth=history.index.to_period('M')).groupby('YearMonth').filter(lambda x: len(x) >= MIN_DAYS).drop(columns=['YearMonth'])\n",
      "/var/folders/bs/pl3ldchs7kzb9cbkl7w2rqtr0000gn/T/ipykernel_58389/2072376713.py:18: UserWarning: Converting to PeriodArray/Index representation will drop timezone information.\n",
      "  history = history.assign(YearMonth=history.index.to_period('M')).groupby('YearMonth').filter(lambda x: len(x) >= MIN_DAYS).drop(columns=['YearMonth'])\n",
      "/var/folders/bs/pl3ldchs7kzb9cbkl7w2rqtr0000gn/T/ipykernel_58389/2072376713.py:18: UserWarning: Converting to PeriodArray/Index representation will drop timezone information.\n",
      "  history = history.assign(YearMonth=history.index.to_period('M')).groupby('YearMonth').filter(lambda x: len(x) >= MIN_DAYS).drop(columns=['YearMonth'])\n",
      "/var/folders/bs/pl3ldchs7kzb9cbkl7w2rqtr0000gn/T/ipykernel_58389/2072376713.py:18: UserWarning: Converting to PeriodArray/Index representation will drop timezone information.\n",
      "  history = history.assign(YearMonth=history.index.to_period('M')).groupby('YearMonth').filter(lambda x: len(x) >= MIN_DAYS).drop(columns=['YearMonth'])\n",
      "/var/folders/bs/pl3ldchs7kzb9cbkl7w2rqtr0000gn/T/ipykernel_58389/2072376713.py:18: UserWarning: Converting to PeriodArray/Index representation will drop timezone information.\n",
      "  history = history.assign(YearMonth=history.index.to_period('M')).groupby('YearMonth').filter(lambda x: len(x) >= MIN_DAYS).drop(columns=['YearMonth'])\n",
      "/var/folders/bs/pl3ldchs7kzb9cbkl7w2rqtr0000gn/T/ipykernel_58389/2072376713.py:18: UserWarning: Converting to PeriodArray/Index representation will drop timezone information.\n",
      "  history = history.assign(YearMonth=history.index.to_period('M')).groupby('YearMonth').filter(lambda x: len(x) >= MIN_DAYS).drop(columns=['YearMonth'])\n"
     ]
    },
    {
     "name": "stdout",
     "output_type": "stream",
     "text": [
      "KeyError: 'currentTradingPeriod'\n"
     ]
    },
    {
     "name": "stderr",
     "output_type": "stream",
     "text": [
      "/var/folders/bs/pl3ldchs7kzb9cbkl7w2rqtr0000gn/T/ipykernel_58389/2072376713.py:18: UserWarning: Converting to PeriodArray/Index representation will drop timezone information.\n",
      "  history = history.assign(YearMonth=history.index.to_period('M')).groupby('YearMonth').filter(lambda x: len(x) >= MIN_DAYS).drop(columns=['YearMonth'])\n",
      "/var/folders/bs/pl3ldchs7kzb9cbkl7w2rqtr0000gn/T/ipykernel_58389/2072376713.py:18: UserWarning: Converting to PeriodArray/Index representation will drop timezone information.\n",
      "  history = history.assign(YearMonth=history.index.to_period('M')).groupby('YearMonth').filter(lambda x: len(x) >= MIN_DAYS).drop(columns=['YearMonth'])\n",
      "/var/folders/bs/pl3ldchs7kzb9cbkl7w2rqtr0000gn/T/ipykernel_58389/2072376713.py:18: UserWarning: Converting to PeriodArray/Index representation will drop timezone information.\n",
      "  history = history.assign(YearMonth=history.index.to_period('M')).groupby('YearMonth').filter(lambda x: len(x) >= MIN_DAYS).drop(columns=['YearMonth'])\n",
      "/var/folders/bs/pl3ldchs7kzb9cbkl7w2rqtr0000gn/T/ipykernel_58389/2072376713.py:18: UserWarning: Converting to PeriodArray/Index representation will drop timezone information.\n",
      "  history = history.assign(YearMonth=history.index.to_period('M')).groupby('YearMonth').filter(lambda x: len(x) >= MIN_DAYS).drop(columns=['YearMonth'])\n",
      "/var/folders/bs/pl3ldchs7kzb9cbkl7w2rqtr0000gn/T/ipykernel_58389/2072376713.py:18: UserWarning: Converting to PeriodArray/Index representation will drop timezone information.\n",
      "  history = history.assign(YearMonth=history.index.to_period('M')).groupby('YearMonth').filter(lambda x: len(x) >= MIN_DAYS).drop(columns=['YearMonth'])\n",
      "/var/folders/bs/pl3ldchs7kzb9cbkl7w2rqtr0000gn/T/ipykernel_58389/2072376713.py:18: UserWarning: Converting to PeriodArray/Index representation will drop timezone information.\n",
      "  history = history.assign(YearMonth=history.index.to_period('M')).groupby('YearMonth').filter(lambda x: len(x) >= MIN_DAYS).drop(columns=['YearMonth'])\n",
      "/var/folders/bs/pl3ldchs7kzb9cbkl7w2rqtr0000gn/T/ipykernel_58389/2072376713.py:18: UserWarning: Converting to PeriodArray/Index representation will drop timezone information.\n",
      "  history = history.assign(YearMonth=history.index.to_period('M')).groupby('YearMonth').filter(lambda x: len(x) >= MIN_DAYS).drop(columns=['YearMonth'])\n",
      "/var/folders/bs/pl3ldchs7kzb9cbkl7w2rqtr0000gn/T/ipykernel_58389/2072376713.py:18: UserWarning: Converting to PeriodArray/Index representation will drop timezone information.\n",
      "  history = history.assign(YearMonth=history.index.to_period('M')).groupby('YearMonth').filter(lambda x: len(x) >= MIN_DAYS).drop(columns=['YearMonth'])\n",
      "/var/folders/bs/pl3ldchs7kzb9cbkl7w2rqtr0000gn/T/ipykernel_58389/2072376713.py:18: UserWarning: Converting to PeriodArray/Index representation will drop timezone information.\n",
      "  history = history.assign(YearMonth=history.index.to_period('M')).groupby('YearMonth').filter(lambda x: len(x) >= MIN_DAYS).drop(columns=['YearMonth'])\n"
     ]
    }
   ],
   "source": [
    "# Get only valid stock data\n",
    "stocks = yf.Tickers(symbol_list)\n",
    "stock_tickers = stocks.tickers\n",
    "stock_data = {}\n",
    "\n",
    "def get_valid_stocks():\n",
    "  for i, symbol in enumerate(stock_tickers):\n",
    "    try:\n",
    "      ticker = stock_tickers[symbol]\n",
    "\n",
    "      # Filter out stocks that aren't in CAD OR USD\n",
    "      if ticker.fast_info[\"currency\"] not in CURRENCIES:\n",
    "        continue\n",
    "\n",
    "      history = ticker.history(start=START_DATE, end=END_DATE)\n",
    "\n",
    "      # Filter out months without at least 18 trading days\n",
    "      history = history.assign(YearMonth=history.index.to_period('M')).groupby('YearMonth').filter(lambda x: len(x) >= MIN_DAYS).drop(columns=['YearMonth'])\n",
    "\n",
    "      # Skip stock if not enough average monthly volume\n",
    "      if history.Volume.mean() < MIN_VOLUME:\n",
    "        continue\n",
    "\n",
    "      stock_data[symbol] = history\n",
    "\n",
    "    except Exception as e:\n",
    "      print(f\"{type(e).__name__}: {e}\")\n",
    "      continue\n",
    "\n",
    "get_valid_stocks()\n"
   ]
  },
  {
   "cell_type": "markdown",
   "metadata": {
    "id": "U0wB719AchV_"
   },
   "source": [
    "Weekly returns are calculated by taking the percentage change between the current week's closing price and the previous week's closing price. We chose to observe the weekly returns instead of daily returns as there will be less variability in percentage changes over a week compared to a day. We created a function called get_weekly_returns that calculates these values and stores them into the weekly_returns dataframe."
   ]
  },
  {
   "cell_type": "code",
   "execution_count": 5,
   "metadata": {
    "colab": {
     "background_save": true
    },
    "id": "XQZWCxbLw_fU",
    "outputId": "ee6e757b-2210-4e2e-b59a-12b1978cf704"
   },
   "outputs": [
    {
     "data": {
      "text/html": [
       "<div>\n",
       "<style scoped>\n",
       "    .dataframe tbody tr th:only-of-type {\n",
       "        vertical-align: middle;\n",
       "    }\n",
       "\n",
       "    .dataframe tbody tr th {\n",
       "        vertical-align: top;\n",
       "    }\n",
       "\n",
       "    .dataframe thead th {\n",
       "        text-align: right;\n",
       "    }\n",
       "</style>\n",
       "<table border=\"1\" class=\"dataframe\">\n",
       "  <thead>\n",
       "    <tr style=\"text-align: right;\">\n",
       "      <th></th>\n",
       "      <th>AAPL</th>\n",
       "      <th>ABBV</th>\n",
       "      <th>ABT</th>\n",
       "      <th>ACN</th>\n",
       "      <th>AIG</th>\n",
       "      <th>AMZN</th>\n",
       "      <th>AXP</th>\n",
       "      <th>BA</th>\n",
       "      <th>BAC</th>\n",
       "      <th>BIIB</th>\n",
       "      <th>...</th>\n",
       "      <th>QCOM</th>\n",
       "      <th>RY.TO</th>\n",
       "      <th>SHOP.TO</th>\n",
       "      <th>T.TO</th>\n",
       "      <th>TD.TO</th>\n",
       "      <th>TXN</th>\n",
       "      <th>UNH</th>\n",
       "      <th>UNP</th>\n",
       "      <th>UPS</th>\n",
       "      <th>USB</th>\n",
       "    </tr>\n",
       "  </thead>\n",
       "  <tbody>\n",
       "    <tr>\n",
       "      <th>2023-01-15 00:00:00-05:00</th>\n",
       "      <td>0.039654</td>\n",
       "      <td>-0.068988</td>\n",
       "      <td>0.015080</td>\n",
       "      <td>0.052316</td>\n",
       "      <td>-0.002169</td>\n",
       "      <td>0.139870</td>\n",
       "      <td>0.037224</td>\n",
       "      <td>0.005305</td>\n",
       "      <td>0.023830</td>\n",
       "      <td>0.031477</td>\n",
       "      <td>...</td>\n",
       "      <td>0.042483</td>\n",
       "      <td>0.029518</td>\n",
       "      <td>0.051049</td>\n",
       "      <td>0.041821</td>\n",
       "      <td>0.028598</td>\n",
       "      <td>0.021980</td>\n",
       "      <td>-0.000878</td>\n",
       "      <td>0.005754</td>\n",
       "      <td>0.017882</td>\n",
       "      <td>0.022025</td>\n",
       "    </tr>\n",
       "    <tr>\n",
       "      <th>2023-01-22 00:00:00-05:00</th>\n",
       "      <td>0.023078</td>\n",
       "      <td>-0.026107</td>\n",
       "      <td>-0.006079</td>\n",
       "      <td>-0.005919</td>\n",
       "      <td>-0.030120</td>\n",
       "      <td>-0.008867</td>\n",
       "      <td>-0.026708</td>\n",
       "      <td>-0.034418</td>\n",
       "      <td>-0.039171</td>\n",
       "      <td>-0.007881</td>\n",
       "      <td>...</td>\n",
       "      <td>0.022122</td>\n",
       "      <td>0.003202</td>\n",
       "      <td>0.039739</td>\n",
       "      <td>0.011368</td>\n",
       "      <td>0.003827</td>\n",
       "      <td>-0.033574</td>\n",
       "      <td>-0.005821</td>\n",
       "      <td>-0.021432</td>\n",
       "      <td>-0.022070</td>\n",
       "      <td>-0.018382</td>\n",
       "    </tr>\n",
       "    <tr>\n",
       "      <th>2023-01-29 00:00:00-05:00</th>\n",
       "      <td>0.058461</td>\n",
       "      <td>-0.022127</td>\n",
       "      <td>-0.025439</td>\n",
       "      <td>-0.011409</td>\n",
       "      <td>0.013767</td>\n",
       "      <td>0.051311</td>\n",
       "      <td>0.136609</td>\n",
       "      <td>0.021329</td>\n",
       "      <td>0.047267</td>\n",
       "      <td>0.015082</td>\n",
       "      <td>...</td>\n",
       "      <td>0.085435</td>\n",
       "      <td>0.009415</td>\n",
       "      <td>0.230798</td>\n",
       "      <td>-0.002459</td>\n",
       "      <td>0.025118</td>\n",
       "      <td>0.012948</td>\n",
       "      <td>-0.001377</td>\n",
       "      <td>-0.030049</td>\n",
       "      <td>0.022231</td>\n",
       "      <td>0.051657</td>\n",
       "    </tr>\n",
       "    <tr>\n",
       "      <th>2023-02-05 00:00:00-05:00</th>\n",
       "      <td>0.058727</td>\n",
       "      <td>-0.007383</td>\n",
       "      <td>0.016735</td>\n",
       "      <td>0.043099</td>\n",
       "      <td>-0.072320</td>\n",
       "      <td>0.011248</td>\n",
       "      <td>0.038013</td>\n",
       "      <td>-0.024435</td>\n",
       "      <td>0.027645</td>\n",
       "      <td>-0.022235</td>\n",
       "      <td>...</td>\n",
       "      <td>0.012144</td>\n",
       "      <td>0.025993</td>\n",
       "      <td>0.064056</td>\n",
       "      <td>0.007747</td>\n",
       "      <td>0.010939</td>\n",
       "      <td>0.047644</td>\n",
       "      <td>-0.028865</td>\n",
       "      <td>0.039034</td>\n",
       "      <td>0.052556</td>\n",
       "      <td>0.009005</td>\n",
       "    </tr>\n",
       "    <tr>\n",
       "      <th>2023-02-12 00:00:00-05:00</th>\n",
       "      <td>-0.021097</td>\n",
       "      <td>0.047176</td>\n",
       "      <td>-0.032472</td>\n",
       "      <td>-0.018187</td>\n",
       "      <td>0.043745</td>\n",
       "      <td>-0.055905</td>\n",
       "      <td>0.002180</td>\n",
       "      <td>0.033396</td>\n",
       "      <td>-0.023332</td>\n",
       "      <td>0.009414</td>\n",
       "      <td>...</td>\n",
       "      <td>-0.044660</td>\n",
       "      <td>0.004415</td>\n",
       "      <td>-0.091499</td>\n",
       "      <td>-0.047869</td>\n",
       "      <td>0.006384</td>\n",
       "      <td>-0.035657</td>\n",
       "      <td>0.047095</td>\n",
       "      <td>-0.022778</td>\n",
       "      <td>-0.033601</td>\n",
       "      <td>-0.012170</td>\n",
       "    </tr>\n",
       "  </tbody>\n",
       "</table>\n",
       "<p>5 rows × 36 columns</p>\n",
       "</div>"
      ],
      "text/plain": [
       "                               AAPL      ABBV       ABT       ACN       AIG  \\\n",
       "2023-01-15 00:00:00-05:00  0.039654 -0.068988  0.015080  0.052316 -0.002169   \n",
       "2023-01-22 00:00:00-05:00  0.023078 -0.026107 -0.006079 -0.005919 -0.030120   \n",
       "2023-01-29 00:00:00-05:00  0.058461 -0.022127 -0.025439 -0.011409  0.013767   \n",
       "2023-02-05 00:00:00-05:00  0.058727 -0.007383  0.016735  0.043099 -0.072320   \n",
       "2023-02-12 00:00:00-05:00 -0.021097  0.047176 -0.032472 -0.018187  0.043745   \n",
       "\n",
       "                               AMZN       AXP        BA       BAC      BIIB  \\\n",
       "2023-01-15 00:00:00-05:00  0.139870  0.037224  0.005305  0.023830  0.031477   \n",
       "2023-01-22 00:00:00-05:00 -0.008867 -0.026708 -0.034418 -0.039171 -0.007881   \n",
       "2023-01-29 00:00:00-05:00  0.051311  0.136609  0.021329  0.047267  0.015082   \n",
       "2023-02-05 00:00:00-05:00  0.011248  0.038013 -0.024435  0.027645 -0.022235   \n",
       "2023-02-12 00:00:00-05:00 -0.055905  0.002180  0.033396 -0.023332  0.009414   \n",
       "\n",
       "                           ...      QCOM     RY.TO   SHOP.TO      T.TO  \\\n",
       "2023-01-15 00:00:00-05:00  ...  0.042483  0.029518  0.051049  0.041821   \n",
       "2023-01-22 00:00:00-05:00  ...  0.022122  0.003202  0.039739  0.011368   \n",
       "2023-01-29 00:00:00-05:00  ...  0.085435  0.009415  0.230798 -0.002459   \n",
       "2023-02-05 00:00:00-05:00  ...  0.012144  0.025993  0.064056  0.007747   \n",
       "2023-02-12 00:00:00-05:00  ... -0.044660  0.004415 -0.091499 -0.047869   \n",
       "\n",
       "                              TD.TO       TXN       UNH       UNP       UPS  \\\n",
       "2023-01-15 00:00:00-05:00  0.028598  0.021980 -0.000878  0.005754  0.017882   \n",
       "2023-01-22 00:00:00-05:00  0.003827 -0.033574 -0.005821 -0.021432 -0.022070   \n",
       "2023-01-29 00:00:00-05:00  0.025118  0.012948 -0.001377 -0.030049  0.022231   \n",
       "2023-02-05 00:00:00-05:00  0.010939  0.047644 -0.028865  0.039034  0.052556   \n",
       "2023-02-12 00:00:00-05:00  0.006384 -0.035657  0.047095 -0.022778 -0.033601   \n",
       "\n",
       "                                USB  \n",
       "2023-01-15 00:00:00-05:00  0.022025  \n",
       "2023-01-22 00:00:00-05:00 -0.018382  \n",
       "2023-01-29 00:00:00-05:00  0.051657  \n",
       "2023-02-05 00:00:00-05:00  0.009005  \n",
       "2023-02-12 00:00:00-05:00 -0.012170  \n",
       "\n",
       "[5 rows x 36 columns]"
      ]
     },
     "metadata": {},
     "output_type": "display_data"
    }
   ],
   "source": [
    "# Get weekly percent returns of stocks\n",
    "def get_weekly_returns():\n",
    "  weekly_returns = pd.DataFrame()\n",
    "  symbols = list(stock_data.keys())\n",
    "\n",
    "  for symbol in symbols:\n",
    "    # Resample to weekly stock data and get percent returns\n",
    "    stock_weekly_returns = stock_data[symbol].Close.resample(\"W\").last().pct_change().dropna()\n",
    "    weekly_returns = pd.concat([weekly_returns, stock_weekly_returns], axis=1)\n",
    "\n",
    "  # Set column names to stock symbols\n",
    "  weekly_returns.columns = symbols\n",
    "\n",
    "  return weekly_returns\n",
    "\n",
    "weekly_returns = get_weekly_returns()\n",
    "display(weekly_returns.head(5))"
   ]
  },
  {
   "cell_type": "markdown",
   "metadata": {
    "id": "I9qd6S4HclBT"
   },
   "source": [
    "Standard deviation measures the spread of data compared to the mean of the dataset, and is calculated with the following formula:\n",
    "\n",
    "\\begin{align*}\n",
    "\\sigma_X=\\sqrt{\\frac{\\sum(x_i-\\overline{X})^2}{N}}\n",
    "\\end{align*}\n",
    "\n",
    "where $x_i$ is the weekly returns value, $\\overline{X}$ is the expected returns value, and ${N}$ is the number of values in the dataset. This is an important metric to determine since the standard deviation of portfolio returns is correlated to price fluctuations in the data. Since we want to maximize risk, we want to choose stocks with greater standard deviation values. By understanding how the returns of different stocks deviate from their means, investors can make informed decisions about diversifying their portfolio to achieve a desired level of risk. Here, the function get_return_stds calculates the standard deviation of the weekly returns we already calculated.\n"
   ]
  },
  {
   "cell_type": "code",
   "execution_count": 6,
   "metadata": {
    "colab": {
     "background_save": true
    },
    "id": "pvrdwSHKtamb",
    "outputId": "5ea84a46-ae3e-4d76-c0ea-18398c14f3a1"
   },
   "outputs": [
    {
     "data": {
      "text/html": [
       "<div>\n",
       "<style scoped>\n",
       "    .dataframe tbody tr th:only-of-type {\n",
       "        vertical-align: middle;\n",
       "    }\n",
       "\n",
       "    .dataframe tbody tr th {\n",
       "        vertical-align: top;\n",
       "    }\n",
       "\n",
       "    .dataframe thead th {\n",
       "        text-align: right;\n",
       "    }\n",
       "</style>\n",
       "<table border=\"1\" class=\"dataframe\">\n",
       "  <thead>\n",
       "    <tr style=\"text-align: right;\">\n",
       "      <th></th>\n",
       "      <th>AAPL</th>\n",
       "      <th>ABBV</th>\n",
       "      <th>ABT</th>\n",
       "      <th>ACN</th>\n",
       "      <th>AIG</th>\n",
       "      <th>AMZN</th>\n",
       "      <th>AXP</th>\n",
       "      <th>BA</th>\n",
       "      <th>BAC</th>\n",
       "      <th>BIIB</th>\n",
       "      <th>...</th>\n",
       "      <th>QCOM</th>\n",
       "      <th>RY.TO</th>\n",
       "      <th>SHOP.TO</th>\n",
       "      <th>T.TO</th>\n",
       "      <th>TD.TO</th>\n",
       "      <th>TXN</th>\n",
       "      <th>UNH</th>\n",
       "      <th>UNP</th>\n",
       "      <th>UPS</th>\n",
       "      <th>USB</th>\n",
       "    </tr>\n",
       "  </thead>\n",
       "  <tbody>\n",
       "    <tr>\n",
       "      <th>0</th>\n",
       "      <td>0.029738</td>\n",
       "      <td>0.028111</td>\n",
       "      <td>0.032859</td>\n",
       "      <td>0.033837</td>\n",
       "      <td>0.034998</td>\n",
       "      <td>0.039356</td>\n",
       "      <td>0.03877</td>\n",
       "      <td>0.039015</td>\n",
       "      <td>0.04002</td>\n",
       "      <td>0.028776</td>\n",
       "      <td>...</td>\n",
       "      <td>0.04303</td>\n",
       "      <td>0.02112</td>\n",
       "      <td>0.082321</td>\n",
       "      <td>0.024786</td>\n",
       "      <td>0.028147</td>\n",
       "      <td>0.0315</td>\n",
       "      <td>0.029917</td>\n",
       "      <td>0.031844</td>\n",
       "      <td>0.033851</td>\n",
       "      <td>0.052283</td>\n",
       "    </tr>\n",
       "  </tbody>\n",
       "</table>\n",
       "<p>1 rows × 36 columns</p>\n",
       "</div>"
      ],
      "text/plain": [
       "       AAPL      ABBV       ABT       ACN       AIG      AMZN      AXP  \\\n",
       "0  0.029738  0.028111  0.032859  0.033837  0.034998  0.039356  0.03877   \n",
       "\n",
       "         BA      BAC      BIIB  ...     QCOM    RY.TO   SHOP.TO      T.TO  \\\n",
       "0  0.039015  0.04002  0.028776  ...  0.04303  0.02112  0.082321  0.024786   \n",
       "\n",
       "      TD.TO     TXN       UNH       UNP       UPS       USB  \n",
       "0  0.028147  0.0315  0.029917  0.031844  0.033851  0.052283  \n",
       "\n",
       "[1 rows x 36 columns]"
      ]
     },
     "metadata": {},
     "output_type": "display_data"
    }
   ],
   "source": [
    "# Get standard deviations of the percent returns\n",
    "def get_return_stds():\n",
    "  return weekly_returns.std().to_frame().T\n",
    "\n",
    "return_stds = get_return_stds()\n",
    "display(return_stds)"
   ]
  },
  {
   "cell_type": "markdown",
   "metadata": {
    "id": "_24VwCYccx5A"
   },
   "source": [
    "Beta is a measure of a stock's volatility in relation to the overall market. A beta of 1 means that the price of the stock moves with the market, while a negative beta indicates that the stock price moves in the opposite direction in relation to the market. If the beta is greater than 1, we know that the stock’s price moves up and down more significantly in response to market changes. If the beta is less than 1, we know that the stock price moves less extremely in response to the market. Here, the function get_betas determines the beta values for each stock. We then will use these values in our trading strategy."
   ]
  },
  {
   "cell_type": "code",
   "execution_count": 7,
   "metadata": {
    "colab": {
     "background_save": true
    },
    "id": "6jskGuLz6_z_",
    "outputId": "6e011d4e-b8f3-4491-fdb2-d56434a67b37"
   },
   "outputs": [
    {
     "data": {
      "text/html": [
       "<div>\n",
       "<style scoped>\n",
       "    .dataframe tbody tr th:only-of-type {\n",
       "        vertical-align: middle;\n",
       "    }\n",
       "\n",
       "    .dataframe tbody tr th {\n",
       "        vertical-align: top;\n",
       "    }\n",
       "\n",
       "    .dataframe thead th {\n",
       "        text-align: right;\n",
       "    }\n",
       "</style>\n",
       "<table border=\"1\" class=\"dataframe\">\n",
       "  <thead>\n",
       "    <tr style=\"text-align: right;\">\n",
       "      <th></th>\n",
       "      <th>AAPL</th>\n",
       "      <th>ABBV</th>\n",
       "      <th>ABT</th>\n",
       "      <th>ACN</th>\n",
       "      <th>AIG</th>\n",
       "      <th>AMZN</th>\n",
       "      <th>AXP</th>\n",
       "      <th>BA</th>\n",
       "      <th>BAC</th>\n",
       "      <th>BIIB</th>\n",
       "      <th>...</th>\n",
       "      <th>QCOM</th>\n",
       "      <th>RY.TO</th>\n",
       "      <th>SHOP.TO</th>\n",
       "      <th>T.TO</th>\n",
       "      <th>TD.TO</th>\n",
       "      <th>TXN</th>\n",
       "      <th>UNH</th>\n",
       "      <th>UNP</th>\n",
       "      <th>UPS</th>\n",
       "      <th>USB</th>\n",
       "    </tr>\n",
       "  </thead>\n",
       "  <tbody>\n",
       "    <tr>\n",
       "      <th>Close</th>\n",
       "      <td>1.228699</td>\n",
       "      <td>0.25143</td>\n",
       "      <td>0.803153</td>\n",
       "      <td>1.240952</td>\n",
       "      <td>0.750641</td>\n",
       "      <td>1.289406</td>\n",
       "      <td>1.409978</td>\n",
       "      <td>1.275695</td>\n",
       "      <td>1.450656</td>\n",
       "      <td>0.732595</td>\n",
       "      <td>...</td>\n",
       "      <td>1.705502</td>\n",
       "      <td>0.696267</td>\n",
       "      <td>2.406784</td>\n",
       "      <td>0.459876</td>\n",
       "      <td>0.850252</td>\n",
       "      <td>1.179653</td>\n",
       "      <td>0.030758</td>\n",
       "      <td>1.062848</td>\n",
       "      <td>1.265794</td>\n",
       "      <td>1.541963</td>\n",
       "    </tr>\n",
       "  </tbody>\n",
       "</table>\n",
       "<p>1 rows × 36 columns</p>\n",
       "</div>"
      ],
      "text/plain": [
       "           AAPL     ABBV       ABT       ACN       AIG      AMZN       AXP  \\\n",
       "Close  1.228699  0.25143  0.803153  1.240952  0.750641  1.289406  1.409978   \n",
       "\n",
       "             BA       BAC      BIIB  ...      QCOM     RY.TO   SHOP.TO  \\\n",
       "Close  1.275695  1.450656  0.732595  ...  1.705502  0.696267  2.406784   \n",
       "\n",
       "           T.TO     TD.TO       TXN       UNH       UNP       UPS       USB  \n",
       "Close  0.459876  0.850252  1.179653  0.030758  1.062848  1.265794  1.541963  \n",
       "\n",
       "[1 rows x 36 columns]"
      ]
     },
     "metadata": {},
     "output_type": "display_data"
    }
   ],
   "source": [
    "# Get beta values of the stocks\n",
    "def get_betas():\n",
    "  market_ticker = yf.Ticker(MARKET_INDEX)\n",
    "  market_history = market_ticker.history(start=START_DATE, end=END_DATE)\n",
    "\n",
    "  # Resample to weekly market data and get percent returns\n",
    "  market_weekly_returns = market_history.Close.resample(\"W\").last().pct_change().dropna()\n",
    "\n",
    "  # Calculate beta value\n",
    "  temp = pd.concat([weekly_returns, market_weekly_returns], axis=1)\n",
    "  beta = temp.cov().div(temp.var()).Close.drop(index=\"Close\").to_frame().T\n",
    "\n",
    "  return beta\n",
    "\n",
    "betas = get_betas()\n",
    "display(betas)"
   ]
  },
  {
   "cell_type": "markdown",
   "metadata": {
    "id": "rx4QwQ7-c4du"
   },
   "source": [
    "Our goal is to create a trading algorithm that creates the most optimal risky portfolio that generates the greatest absolute change in value. To accomplish this, we have taken various factors into consideration. First, we want to maximize or minimize beta. The overall market acts as a baseline to all the stock, so we want to consider the stocks that deviate the most from this. We also want to maximize standard deviation to maximize the volatility, hence maximizing the risk. We want to analyze the highest and lowest betas separately from the standard deviation considering that if standard deviations were the only statistic taken into consideration, the stocks may move opposite to each other. This could cause the portfolio to not deviate as much in value compared to if the stocks made similar movements in the same direction.\n",
    "\n",
    "We chose to assign the weighting of the riskiest stocks by having the top three worth 20% each, fourth riskiest worth 10%, and the remaining six worth 5% each. We chose to only add 10 stocks to the portfolio to have as least diversification as possible. We want to maximize riskiness in the portfolio so the stocks with the highest standard deviation will be weighted higher than stocks with lower deviation.\n"
   ]
  },
  {
   "cell_type": "code",
   "execution_count": 8,
   "metadata": {
    "colab": {
     "background_save": true
    },
    "id": "mOzkNQJF4_v0",
    "outputId": "84ce097c-0f6b-4dc2-e56f-7a8d7caf9d26"
   },
   "outputs": [
    {
     "name": "stdout",
     "output_type": "stream",
     "text": [
      "['SHOP.TO', 'USB', 'PYPL', 'CAT', 'QCOM', 'BAC', 'AMZN', 'BA', 'AXP', 'BLK']\n"
     ]
    }
   ],
   "source": [
    "# Pick stocks that give the highest standard deviation from the highest or lowest beta values\n",
    "def select_stocks():\n",
    "  combined_data = pd.concat([betas.T, return_stds.T], axis=1)\n",
    "  combined_data.columns = [\"betas\", \"return_stds\"]\n",
    "\n",
    "  # Sort data by beta values\n",
    "  combined_data = combined_data.sort_values(by=\"betas\", ascending=True)\n",
    "\n",
    "  # Get 10 lowest and 10 highest beta value stocks and sort them by standard deviation\n",
    "  lowest_betas = combined_data.head(10).sort_values(by=\"return_stds\", ascending=False)\n",
    "  highest_betas = combined_data.tail(10).sort_values(by=\"return_stds\", ascending=False)\n",
    "\n",
    "  # Get total standard deviation of 10 lowest and 10 highest beta value stocks\n",
    "  lowest_betas_std = lowest_betas.reset_index().betas.mul(STOCKS_WEIGHTING).sum()\n",
    "  highest_betas_std = highest_betas.reset_index().betas.mul(STOCKS_WEIGHTING).sum()\n",
    "\n",
    "  # Return list of stocks that yield the highest standard deviation\n",
    "  return list(highest_betas.index if highest_betas_std > lowest_betas_std else lowest_betas.index)\n",
    "\n",
    "best_stocks = select_stocks()\n",
    "print(best_stocks)"
   ]
  },
  {
   "cell_type": "markdown",
   "metadata": {
    "id": "aFIiydzic9ME"
   },
   "source": [
    "The following generates the forex rate for USD to CAD for the previous month. Since our cash is in Canadian dollars, we need to convert the shares prices in USD to CAD before adding them to our portfolio later on."
   ]
  },
  {
   "cell_type": "code",
   "execution_count": 9,
   "metadata": {
    "colab": {
     "background_save": true
    },
    "id": "HchIX3fYNtsA",
    "outputId": "bd58b6e3-f5f6-4028-9d5f-893b1cdce7e5"
   },
   "outputs": [
    {
     "data": {
      "text/html": [
       "<div>\n",
       "<style scoped>\n",
       "    .dataframe tbody tr th:only-of-type {\n",
       "        vertical-align: middle;\n",
       "    }\n",
       "\n",
       "    .dataframe tbody tr th {\n",
       "        vertical-align: top;\n",
       "    }\n",
       "\n",
       "    .dataframe thead th {\n",
       "        text-align: right;\n",
       "    }\n",
       "</style>\n",
       "<table border=\"1\" class=\"dataframe\">\n",
       "  <thead>\n",
       "    <tr style=\"text-align: right;\">\n",
       "      <th></th>\n",
       "      <th>Open</th>\n",
       "      <th>High</th>\n",
       "      <th>Low</th>\n",
       "      <th>Close</th>\n",
       "      <th>Volume</th>\n",
       "      <th>Dividends</th>\n",
       "      <th>Stock Splits</th>\n",
       "    </tr>\n",
       "    <tr>\n",
       "      <th>Date</th>\n",
       "      <th></th>\n",
       "      <th></th>\n",
       "      <th></th>\n",
       "      <th></th>\n",
       "      <th></th>\n",
       "      <th></th>\n",
       "      <th></th>\n",
       "    </tr>\n",
       "  </thead>\n",
       "  <tbody>\n",
       "    <tr>\n",
       "      <th>2023-11-21 00:00:00+00:00</th>\n",
       "      <td>1.37241</td>\n",
       "      <td>1.37307</td>\n",
       "      <td>1.36790</td>\n",
       "      <td>1.37241</td>\n",
       "      <td>0</td>\n",
       "      <td>0.0</td>\n",
       "      <td>0.0</td>\n",
       "    </tr>\n",
       "    <tr>\n",
       "      <th>2023-11-22 00:00:00+00:00</th>\n",
       "      <td>1.37010</td>\n",
       "      <td>1.37641</td>\n",
       "      <td>1.36904</td>\n",
       "      <td>1.37010</td>\n",
       "      <td>0</td>\n",
       "      <td>0.0</td>\n",
       "      <td>0.0</td>\n",
       "    </tr>\n",
       "    <tr>\n",
       "      <th>2023-11-23 00:00:00+00:00</th>\n",
       "      <td>1.36925</td>\n",
       "      <td>1.37100</td>\n",
       "      <td>1.36512</td>\n",
       "      <td>1.36925</td>\n",
       "      <td>0</td>\n",
       "      <td>0.0</td>\n",
       "      <td>0.0</td>\n",
       "    </tr>\n",
       "    <tr>\n",
       "      <th>2023-11-24 00:00:00+00:00</th>\n",
       "      <td>1.36950</td>\n",
       "      <td>1.37112</td>\n",
       "      <td>1.35940</td>\n",
       "      <td>1.36950</td>\n",
       "      <td>0</td>\n",
       "      <td>0.0</td>\n",
       "      <td>0.0</td>\n",
       "    </tr>\n",
       "    <tr>\n",
       "      <th>2023-11-27 00:00:00+00:00</th>\n",
       "      <td>1.36350</td>\n",
       "      <td>1.36410</td>\n",
       "      <td>1.36210</td>\n",
       "      <td>1.36353</td>\n",
       "      <td>0</td>\n",
       "      <td>0.0</td>\n",
       "      <td>0.0</td>\n",
       "    </tr>\n",
       "  </tbody>\n",
       "</table>\n",
       "</div>"
      ],
      "text/plain": [
       "                              Open     High      Low    Close  Volume  \\\n",
       "Date                                                                    \n",
       "2023-11-21 00:00:00+00:00  1.37241  1.37307  1.36790  1.37241       0   \n",
       "2023-11-22 00:00:00+00:00  1.37010  1.37641  1.36904  1.37010       0   \n",
       "2023-11-23 00:00:00+00:00  1.36925  1.37100  1.36512  1.36925       0   \n",
       "2023-11-24 00:00:00+00:00  1.36950  1.37112  1.35940  1.36950       0   \n",
       "2023-11-27 00:00:00+00:00  1.36350  1.36410  1.36210  1.36353       0   \n",
       "\n",
       "                           Dividends  Stock Splits  \n",
       "Date                                                \n",
       "2023-11-21 00:00:00+00:00        0.0           0.0  \n",
       "2023-11-22 00:00:00+00:00        0.0           0.0  \n",
       "2023-11-23 00:00:00+00:00        0.0           0.0  \n",
       "2023-11-24 00:00:00+00:00        0.0           0.0  \n",
       "2023-11-27 00:00:00+00:00        0.0           0.0  "
      ]
     },
     "metadata": {},
     "output_type": "display_data"
    }
   ],
   "source": [
    "# Get USD to CAD conversion history\n",
    "usd_to_cad_ticker = yf.Ticker(USD_TO_CAD)\n",
    "usd_to_cad_history = usd_to_cad_ticker.history()\n",
    "display(usd_to_cad_history.tail(5))"
   ]
  },
  {
   "cell_type": "markdown",
   "metadata": {
    "id": "mZuUSvKqdD83"
   },
   "source": [
    "The function create_portfolio generates the portfolio from the stocks and weightings determined by the algorithm. The overall portfolio value is $\\$750,000$ sub the $\\$4.95$ transaction fee per ticker. All the shares in USD were converted to Canadian dollars and all transactions were performed in terms of Canadian dollars including the transaction fees. Note the total portfolio value and the total portfolio weighting vary by less than 9 decimals places. This can be attributed to how numbers are stored in Python."
   ]
  },
  {
   "cell_type": "code",
   "execution_count": 10,
   "metadata": {
    "colab": {
     "background_save": true
    },
    "id": "4GtBlCqtH3Fq",
    "outputId": "a7021347-2c1b-43bf-c8a5-005a1d80fbc8"
   },
   "outputs": [
    {
     "name": "stdout",
     "output_type": "stream",
     "text": [
      "Portfolio Total Value: 750000.0000000002\n",
      "Portfolio Total Weight: 1.0000000000000002\n"
     ]
    },
    {
     "data": {
      "text/html": [
       "<div>\n",
       "<style scoped>\n",
       "    .dataframe tbody tr th:only-of-type {\n",
       "        vertical-align: middle;\n",
       "    }\n",
       "\n",
       "    .dataframe tbody tr th {\n",
       "        vertical-align: top;\n",
       "    }\n",
       "\n",
       "    .dataframe thead th {\n",
       "        text-align: right;\n",
       "    }\n",
       "</style>\n",
       "<table border=\"1\" class=\"dataframe\">\n",
       "  <thead>\n",
       "    <tr style=\"text-align: right;\">\n",
       "      <th></th>\n",
       "      <th>Ticker</th>\n",
       "      <th>Price</th>\n",
       "      <th>Currency</th>\n",
       "      <th>Shares</th>\n",
       "      <th>Value</th>\n",
       "      <th>Weight</th>\n",
       "    </tr>\n",
       "  </thead>\n",
       "  <tbody>\n",
       "    <tr>\n",
       "      <th>1</th>\n",
       "      <td>SHOP.TO</td>\n",
       "      <td>96.260002</td>\n",
       "      <td>CAD</td>\n",
       "      <td>1558.176778</td>\n",
       "      <td>149990.1</td>\n",
       "      <td>0.2</td>\n",
       "    </tr>\n",
       "    <tr>\n",
       "      <th>2</th>\n",
       "      <td>USB</td>\n",
       "      <td>50.723319</td>\n",
       "      <td>USD</td>\n",
       "      <td>2957.024587</td>\n",
       "      <td>149990.1</td>\n",
       "      <td>0.2</td>\n",
       "    </tr>\n",
       "    <tr>\n",
       "      <th>3</th>\n",
       "      <td>PYPL</td>\n",
       "      <td>76.030433</td>\n",
       "      <td>USD</td>\n",
       "      <td>1972.763992</td>\n",
       "      <td>149990.1</td>\n",
       "      <td>0.2</td>\n",
       "    </tr>\n",
       "    <tr>\n",
       "      <th>4</th>\n",
       "      <td>CAT</td>\n",
       "      <td>337.282791</td>\n",
       "      <td>USD</td>\n",
       "      <td>222.350656</td>\n",
       "      <td>74995.05</td>\n",
       "      <td>0.1</td>\n",
       "    </tr>\n",
       "    <tr>\n",
       "      <th>5</th>\n",
       "      <td>QCOM</td>\n",
       "      <td>174.190963</td>\n",
       "      <td>USD</td>\n",
       "      <td>215.266765</td>\n",
       "      <td>37497.525</td>\n",
       "      <td>0.05</td>\n",
       "    </tr>\n",
       "    <tr>\n",
       "      <th>6</th>\n",
       "      <td>BAC</td>\n",
       "      <td>40.537747</td>\n",
       "      <td>USD</td>\n",
       "      <td>925.002679</td>\n",
       "      <td>37497.525</td>\n",
       "      <td>0.05</td>\n",
       "    </tr>\n",
       "    <tr>\n",
       "      <th>7</th>\n",
       "      <td>AMZN</td>\n",
       "      <td>200.084406</td>\n",
       "      <td>USD</td>\n",
       "      <td>187.408533</td>\n",
       "      <td>37497.525</td>\n",
       "      <td>0.05</td>\n",
       "    </tr>\n",
       "    <tr>\n",
       "      <th>8</th>\n",
       "      <td>BA</td>\n",
       "      <td>299.976609</td>\n",
       "      <td>USD</td>\n",
       "      <td>125.001496</td>\n",
       "      <td>37497.525</td>\n",
       "      <td>0.05</td>\n",
       "    </tr>\n",
       "    <tr>\n",
       "      <th>9</th>\n",
       "      <td>AXP</td>\n",
       "      <td>224.191607</td>\n",
       "      <td>USD</td>\n",
       "      <td>167.256596</td>\n",
       "      <td>37497.525</td>\n",
       "      <td>0.05</td>\n",
       "    </tr>\n",
       "    <tr>\n",
       "      <th>10</th>\n",
       "      <td>BLK</td>\n",
       "      <td>995.513249</td>\n",
       "      <td>USD</td>\n",
       "      <td>37.666525</td>\n",
       "      <td>37497.525</td>\n",
       "      <td>0.05</td>\n",
       "    </tr>\n",
       "  </tbody>\n",
       "</table>\n",
       "</div>"
      ],
      "text/plain": [
       "     Ticker       Price Currency       Shares      Value Weight\n",
       "1   SHOP.TO   96.260002      CAD  1558.176778   149990.1    0.2\n",
       "2       USB   50.723319      USD  2957.024587   149990.1    0.2\n",
       "3      PYPL   76.030433      USD  1972.763992   149990.1    0.2\n",
       "4       CAT  337.282791      USD   222.350656   74995.05    0.1\n",
       "5      QCOM  174.190963      USD   215.266765  37497.525   0.05\n",
       "6       BAC   40.537747      USD   925.002679  37497.525   0.05\n",
       "7      AMZN  200.084406      USD   187.408533  37497.525   0.05\n",
       "8        BA  299.976609      USD   125.001496  37497.525   0.05\n",
       "9       AXP  224.191607      USD   167.256596  37497.525   0.05\n",
       "10      BLK  995.513249      USD    37.666525  37497.525   0.05"
      ]
     },
     "metadata": {},
     "output_type": "display_data"
    }
   ],
   "source": [
    "# Create Portfolio_Final\n",
    "def create_portfolio():\n",
    "  Portfolio_Final = pd.DataFrame()\n",
    "\n",
    "  for i, symbol in enumerate(best_stocks):\n",
    "    weight = STOCKS_WEIGHTING[i]\n",
    "    value = weight * (STARTING_VALUE - NUM_STOCKS * TRADING_FEE)\n",
    "    currency = stock_tickers[symbol].fast_info[\"currency\"]\n",
    "    close_raw = stock_tickers[symbol].history().Close.iat[-1]\n",
    "    price = close_raw * usd_to_cad_history.Close.iat[-1] if currency == \"USD\" else close_raw\n",
    "    shares = value / price\n",
    "    row = pd.DataFrame([symbol, price, currency, shares, value, weight]).T\n",
    "    Portfolio_Final = pd.concat([Portfolio_Final, row], axis=0)\n",
    "\n",
    "  Portfolio_Final.columns = [\"Ticker\", \"Price\", \"Currency\", \"Shares\", \"Value\", \"Weight\"]\n",
    "  Portfolio_Final.index = [i + 1 for i in range(NUM_STOCKS)]\n",
    "  return Portfolio_Final\n",
    "\n",
    "Portfolio_Final = create_portfolio()\n",
    "\n",
    "# Prove totals add up to the right amounts\n",
    "print(f\"Portfolio Total Value: {Portfolio_Final.Value.sum() + NUM_STOCKS * TRADING_FEE}\")\n",
    "print(f\"Portfolio Total Weight: {Portfolio_Final.Weight.sum()}\")\n",
    "\n",
    "display(Portfolio_Final)"
   ]
  },
  {
   "cell_type": "code",
   "execution_count": 11,
   "metadata": {
    "colab": {
     "background_save": true
    },
    "id": "16wxP9YmVkmd"
   },
   "outputs": [],
   "source": [
    "# Create Stocks_Final and save it as a csv\n",
    "Stocks_Final = Portfolio_Final[[\"Ticker\", \"Shares\"]]\n",
    "Stocks_Final.to_csv(f\"Stocks_Group_{TEAM_NUMBER}.csv\")"
   ]
  },
  {
   "cell_type": "markdown",
   "metadata": {
    "id": "NMdZay_idHIz"
   },
   "source": [
    "Throughout the assignment, we analyzed historical stock data from the given tickers and ran algorithms to determine the most optimal portfolio for a risky trading strategy. We considered statistics such as standard deviation and beta to support our algorithm. In the end, we generated a portfolio worth \\$750,000 with the stocks and weightings determined by our algorithm.  "
   ]
  },
  {
   "cell_type": "markdown",
   "metadata": {
    "id": "N3if06wpg2fM"
   },
   "source": [
    "## Contribution Declaration\n",
    "\n",
    "The following team members made a meaningful contribution to this assignment:\n",
    "\n",
    "Steven Chen, Jolene Huang, Haadi Khan"
   ]
  }
 ],
 "metadata": {
  "colab": {
   "provenance": []
  },
  "kernelspec": {
   "display_name": "venv",
   "language": "python",
   "name": "venv"
  },
  "language_info": {
   "codemirror_mode": {
    "name": "ipython",
    "version": 3
   },
   "file_extension": ".py",
   "mimetype": "text/x-python",
   "name": "python",
   "nbconvert_exporter": "python",
   "pygments_lexer": "ipython3",
   "version": "3.11.4"
  }
 },
 "nbformat": 4,
 "nbformat_minor": 1
}
